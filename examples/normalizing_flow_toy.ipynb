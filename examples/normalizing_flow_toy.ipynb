{
 "cells": [
  {
   "cell_type": "markdown",
   "metadata": {},
   "source": [
    "# A toy example of normalizing flow (using the VI class)"
   ]
  },
  {
   "cell_type": "code",
   "execution_count": 1,
   "metadata": {},
   "outputs": [],
   "source": [
    "from __future__ import print_function\n",
    "import torch\n",
    "import torch.utils.data\n",
    "from torch import nn, optim\n",
    "from torch.nn import functional as F\n",
    "from torchvision import datasets, transforms\n",
    "from torchvision.utils import save_image\n",
    "from tensorboardX import SummaryWriter\n",
    "\n",
    "from matplotlib import pyplot as plt\n",
    "\n",
    "from tqdm import tqdm\n",
    "\n",
    "batch_size = 128\n",
    "epochs = 10000\n",
    "seed = 1\n",
    "torch.manual_seed(seed)\n",
    "\n",
    "if torch.cuda.is_available():\n",
    "    device = \"cuda\"\n",
    "else:\n",
    "    device = \"cpu\""
   ]
  },
  {
   "cell_type": "code",
   "execution_count": 2,
   "metadata": {},
   "outputs": [],
   "source": [
    "from pixyz.distributions import CustomLikelihoodDistribution, Normal\n",
    "from pixyz.models import VI\n",
    "from pixyz.utils import get_dict_values"
   ]
  },
  {
   "cell_type": "code",
   "execution_count": 3,
   "metadata": {},
   "outputs": [],
   "source": [
    "import torch\n",
    "z_dim = 2\n",
    "\n",
    "def likelihood(z):\n",
    "    z1, z2 = torch.chunk(z, chunks=2, dim=1)\n",
    "    norm = torch.sqrt(z1 ** 2 + z2 ** 2)\n",
    "\n",
    "    exp1 = torch.exp(-0.5 * ((z1 - 2) / 0.6) ** 2)\n",
    "    exp2 = torch.exp(-0.5 * ((z1 + 2) / 0.6) ** 2)\n",
    "    u = 0.5 * ((norm - 2) / 0.4) ** 2 - torch.log(exp1 + exp2)\n",
    "\n",
    "    return torch.exp(-u)\n",
    "\n",
    "p = CustomLikelihoodDistribution(var=[\"z\"], likelihood=likelihood)\n",
    "\n",
    "loc = torch.tensor(0.).to(device)\n",
    "scale = torch.tensor(1.).to(device)\n",
    "prior = Normal(loc=loc, scale=scale, var=[\"z_prior\"], dim=z_dim, name=\"q_prior\")"
   ]
  },
  {
   "cell_type": "code",
   "execution_count": 4,
   "metadata": {},
   "outputs": [
    {
     "data": {
      "image/png": "[encoded data removed]",
      "text/plain": [
       "<Figure size 432x288 with 1 Axes>"
      ]
     },
     "metadata": {},
     "output_type": "display_data"
    }
   ],
   "source": [
    "import numpy as np\n",
    "def plot_density(p):\n",
    "\n",
    "    X_LIMS = (-4, 4)\n",
    "    Y_LIMS = (-4, 4)\n",
    "\n",
    "    x1 = np.linspace(*X_LIMS, 300)\n",
    "    x2 = np.linspace(*Y_LIMS, 300)\n",
    "    x1, x2 = np.meshgrid(x1, x2)\n",
    "    shape = x1.shape\n",
    "    x1 = x1.ravel()\n",
    "    x2 = x2.ravel()\n",
    "\n",
    "    z = np.c_[x1, x2]\n",
    "    z = torch.FloatTensor(z)\n",
    "    \n",
    "    p.log_likelihood({\"z\":z})\n",
    "\n",
    "    density_values = torch.exp(p.log_likelihood({\"z\":z})).data.numpy().reshape(shape)\n",
    "    plt.imshow(density_values, cmap='jet')\n",
    "    plt.show()\n",
    "    \n",
    "plot_density(p)"
   ]
  },
  {
   "cell_type": "code",
   "execution_count": 5,
   "metadata": {},
   "outputs": [
    {
     "name": "stdout",
     "output_type": "stream",
     "text": [
      "Distribution:\n",
      "  q(z=PlanarFlow(z_prior)) (None)\n",
      "Network architecture:\n",
      "  PlanarFlow(\n",
      "    (prior): Normal()\n",
      "    (flows): ModuleList(\n",
      "      (0): PlanarFlowLayer()\n",
      "      (1): PlanarFlowLayer()\n",
      "      (2): PlanarFlowLayer()\n",
      "      (3): PlanarFlowLayer()\n",
      "      (4): PlanarFlowLayer()\n",
      "      (5): PlanarFlowLayer()\n",
      "      (6): PlanarFlowLayer()\n",
      "      (7): PlanarFlowLayer()\n",
      "      (8): PlanarFlowLayer()\n",
      "      (9): PlanarFlowLayer()\n",
      "      (10): PlanarFlowLayer()\n",
      "      (11): PlanarFlowLayer()\n",
      "      (12): PlanarFlowLayer()\n",
      "      (13): PlanarFlowLayer()\n",
      "      (14): PlanarFlowLayer()\n",
      "      (15): PlanarFlowLayer()\n",
      "      (16): PlanarFlowLayer()\n",
      "      (17): PlanarFlowLayer()\n",
      "      (18): PlanarFlowLayer()\n",
      "      (19): PlanarFlowLayer()\n",
      "      (20): PlanarFlowLayer()\n",
      "      (21): PlanarFlowLayer()\n",
      "      (22): PlanarFlowLayer()\n",
      "      (23): PlanarFlowLayer()\n",
      "      (24): PlanarFlowLayer()\n",
      "      (25): PlanarFlowLayer()\n",
      "      (26): PlanarFlowLayer()\n",
      "      (27): PlanarFlowLayer()\n",
      "      (28): PlanarFlowLayer()\n",
      "      (29): PlanarFlowLayer()\n",
      "      (30): PlanarFlowLayer()\n",
      "      (31): PlanarFlowLayer()\n",
      "    )\n",
      "  )\n"
     ]
    }
   ],
   "source": [
    "from pixyz.distributions import PlanarFlow\n",
    "q = PlanarFlow(prior, z_dim, var=[\"z\"], num_layers=32, name=\"q\")\n",
    "\n",
    "p.to(device)\n",
    "q.to(device)\n",
    "\n",
    "print(q)"
   ]
  },
  {
   "cell_type": "code",
   "execution_count": 6,
   "metadata": {},
   "outputs": [
    {
     "name": "stdout",
     "output_type": "stream",
     "text": [
      "torch.Size([128, 2])\n",
      "torch.Size([128, 2])\n",
      "torch.Size([128, 2])\n",
      "torch.Size([128, 2])\n",
      "torch.Size([128, 2])\n",
      "torch.Size([128, 2])\n",
      "torch.Size([128, 2])\n",
      "torch.Size([128, 2])\n",
      "torch.Size([128, 2])\n",
      "torch.Size([128, 2])\n"
     ]
    }
   ],
   "source": [
    "for i in range(100000):\n",
    "    if i%10000 == 0:\n",
    "        print(q.sample(batch_size=batch_size)[\"z\"].shape)"
   ]
  },
  {
   "cell_type": "code",
   "execution_count": 7,
   "metadata": {},
   "outputs": [
    {
     "name": "stdout",
     "output_type": "stream",
     "text": [
      "Distributions (for training): \n",
      "  p(z), q(z=PlanarFlow(z_prior)) \n",
      "Loss function: \n",
      "  mean(-(E_q(z=PlanarFlow(z_prior))[log p(z)/q(z=PlanarFlow(z_prior))])) \n",
      "Optimizer: \n",
      "  Adam (\n",
      "  Parameter Group 0\n",
      "      amsgrad: False\n",
      "      betas: (0.9, 0.999)\n",
      "      eps: 1e-08\n",
      "      lr: 0.001\n",
      "      weight_decay: 0\n",
      "  )\n"
     ]
    }
   ],
   "source": [
    "model = VI(p, q, optimizer=optim.Adam, optimizer_params={\"lr\":1e-3})\n",
    "print(model)"
   ]
  },
  {
   "cell_type": "code",
   "execution_count": 8,
   "metadata": {},
   "outputs": [
    {
     "name": "stdout",
     "output_type": "stream",
     "text": [
      "Epoch: 0 Test loss: 7.4908\n",
      "Epoch: 500 Test loss: -1.0784\n",
      "Epoch: 1000 Test loss: -1.1973\n",
      "Epoch: 1500 Test loss: -1.1685\n",
      "Epoch: 2000 Test loss: -1.1874\n",
      "Epoch: 2500 Test loss: -1.1823\n",
      "Epoch: 3000 Test loss: -1.1890\n",
      "Epoch: 3500 Test loss: -1.1816\n",
      "Epoch: 4000 Test loss: -1.1658\n",
      "Epoch: 4500 Test loss: -1.1790\n",
      "Epoch: 5000 Test loss: -1.1942\n",
      "Epoch: 5500 Test loss: -1.2570\n",
      "Epoch: 6000 Test loss: -1.2487\n",
      "Epoch: 6500 Test loss: -1.6201\n",
      "Epoch: 7000 Test loss: -1.6963\n",
      "Epoch: 7500 Test loss: -1.7701\n",
      "Epoch: 8000 Test loss: -1.7980\n",
      "Epoch: 8500 Test loss: -1.8739\n",
      "Epoch: 9000 Test loss: -1.8197\n",
      "Epoch: 9500 Test loss: -1.7986\n"
     ]
    }
   ],
   "source": [
    "for epoch in range(epochs):\n",
    "    loss = model.train(batch_size=batch_size)\n",
    "    if epoch % 500 == 0:\n",
    "        loss = model.test(batch_size=batch_size)\n",
    "        print('Epoch: {} Test loss: {:.4f}'.format(epoch, loss))"
   ]
  },
  {
   "cell_type": "code",
   "execution_count": 9,
   "metadata": {},
   "outputs": [],
   "source": [
    "def plot_samples(points):\n",
    "    X_LIMS = (-4, 4)\n",
    "    Y_LIMS = (-4, 4)\n",
    "\n",
    "    fig = plt.figure(figsize=(4, 4))\n",
    "    ax = fig.add_subplot(111)\n",
    "    ax.scatter(points[:, 0], points[:, 1], alpha=0.7, s=25)\n",
    "    ax.set_xlim(*X_LIMS)\n",
    "    ax.set_ylim(*Y_LIMS)\n",
    "\n",
    "    plt.show()"
   ]
  },
  {
   "cell_type": "code",
   "execution_count": 10,
   "metadata": {},
   "outputs": [
    {
     "data": {
      "image/png": "[encoded data removed]",
      "text/plain": [
       "<Figure size 288x288 with 1 Axes>"
      ]
     },
     "metadata": {},
     "output_type": "display_data"
    }
   ],
   "source": [
    "samples = q.sample(batch_size=1000)\n",
    "plot_samples(samples[\"z\"].cpu().data.numpy())"
   ]
  },
  {
   "cell_type": "code",
   "execution_count": null,
   "metadata": {},
   "outputs": [],
   "source": []
  }
 ],
 "metadata": {
  "kernelspec": {
   "display_name": "Python 3",
   "language": "python",
   "name": "python3"
  },
  "language_info": {
   "codemirror_mode": {
    "name": "ipython",
    "version": 3
   },
   "file_extension": ".py",
   "mimetype": "text/x-python",
   "name": "python",
   "nbconvert_exporter": "python",
   "pygments_lexer": "ipython3",
   "version": "3.6.5"
  }
 },
 "nbformat": 4,
 "nbformat_minor": 2
}
