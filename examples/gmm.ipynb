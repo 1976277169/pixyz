{
 "cells": [
  {
   "cell_type": "markdown",
   "metadata": {},
   "source": [
    "# Gaussian Mixture Model"
   ]
  },
  {
   "cell_type": "code",
   "execution_count": 1,
   "metadata": {},
   "outputs": [],
   "source": [
    "from __future__ import print_function\n",
    "import torch\n",
    "import torch.utils.data\n",
    "from torch import nn, optim\n",
    "from torch.nn import functional as F\n",
    "import numpy as np\n",
    "\n",
    "import matplotlib.pyplot as plt\n",
    "\n",
    "from tqdm import tqdm\n",
    "\n",
    "seed = 1\n",
    "torch.manual_seed(seed)\n",
    "\n",
    "if torch.cuda.is_available():\n",
    "    device = \"cuda\"\n",
    "else:\n",
    "    device = \"cpu\""
   ]
  },
  {
   "cell_type": "code",
   "execution_count": 8,
   "metadata": {},
   "outputs": [],
   "source": [
    "from pixyz.distributions import Normal, Categorical, Bernoulli\n",
    "from pixyz.distributions.mixture_distributions import MixtureModel\n",
    "\n",
    "z_dim = 3 # the number of mixture\n",
    "x_dim = 2\n",
    "\n",
    "distributions = []\n",
    "for i in range(z_dim):\n",
    "    loc = torch.randn(x_dim)\n",
    "    scale = torch.empty(x_dim).fill_(1.)\n",
    "    distributions.append(Normal(loc=loc, scale=scale, var=[\"x\"], name=\"p_%d\" %i))\n",
    "\n",
    "probs = torch.empty(z_dim).fill_(1. / z_dim)\n",
    "prior = Categorical(probs=probs, var=[\"z\"], name=\"prior\")\n",
    "\n",
    "p = MixtureModel(distributions=distributions, prior=prior)"
   ]
  },
  {
   "cell_type": "code",
   "execution_count": 5,
   "metadata": {},
   "outputs": [
    {
     "name": "stdout",
     "output_type": "stream",
     "text": [
      "Distribution:\n",
      "  p(x,z) = p_0(x|z=0)prior(z=0) + p_1(x|z=1)prior(z=1) + p_2(x|z=2)prior(z=2)\n",
      "Network architecture:\n",
      "  MixtureModel(\n",
      "    (_distributions): ModuleList(\n",
      "      (0): Normal()\n",
      "      (1): Normal()\n",
      "      (2): Normal()\n",
      "    )\n",
      "    (_prior): Categorical()\n",
      "  )\n"
     ]
    }
   ],
   "source": [
    "print(p)"
   ]
  },
  {
   "cell_type": "code",
   "execution_count": 6,
   "metadata": {},
   "outputs": [
    {
     "data": {
      "text/plain": [
       "{'x': tensor([[[-1.2168,  0.2296],\n",
       "          [ 0.1656,  0.9038]],\n",
       " \n",
       "         [[-3.0954,  0.2584],\n",
       "          [ 2.0642, -1.4496]],\n",
       " \n",
       "         [[ 0.4877, -1.4088],\n",
       "          [-0.5468,  0.4463]],\n",
       " \n",
       "         [[-0.4815, -1.0463],\n",
       "          [-1.8004,  0.4840]],\n",
       " \n",
       "         [[ 1.3897, -1.2663],\n",
       "          [ 0.2197,  2.1592]],\n",
       " \n",
       "         [[-2.3257,  0.6183],\n",
       "          [-1.2371,  1.0715]],\n",
       " \n",
       "         [[-1.9873, -0.2112],\n",
       "          [-1.4316,  1.1953]],\n",
       " \n",
       "         [[-2.0753,  1.0172],\n",
       "          [-1.9196, -0.2754]],\n",
       " \n",
       "         [[-0.1497, -1.9550],\n",
       "          [-1.4309,  1.1650]],\n",
       " \n",
       "         [[-0.6503, -0.8455],\n",
       "          [-3.5943, -1.9934]]]), 'z': tensor([[0., 0., 1.],\n",
       "         [1., 0., 0.],\n",
       "         [0., 0., 1.],\n",
       "         [0., 0., 1.],\n",
       "         [0., 0., 1.],\n",
       "         [1., 0., 0.],\n",
       "         [0., 1., 0.],\n",
       "         [1., 0., 0.],\n",
       "         [0., 1., 0.],\n",
       "         [0., 1., 0.]])}"
      ]
     },
     "execution_count": 6,
     "metadata": {},
     "output_type": "execute_result"
    }
   ],
   "source": [
    "p.sample(batch_size=10)"
   ]
  },
  {
   "cell_type": "markdown",
   "metadata": {},
   "source": [
    "### toy dataset"
   ]
  },
  {
   "cell_type": "code",
   "execution_count": 25,
   "metadata": {},
   "outputs": [],
   "source": [
    "# https://angusturner.github.io/generative_models/2017/11/03/pytorch-gaussian-mixture-model.html\n",
    "\n",
    "def sample(mu, var, nb_samples=500):\n",
    "    \"\"\"\n",
    "    Return a tensor of (nb_samples, features), sampled\n",
    "    from the parameterized gaussian.\n",
    "    :param mu: torch.Tensor of the means\n",
    "    :param var: torch.Tensor of variances (NOTE: zero covars.)\n",
    "    \"\"\"\n",
    "    out = []\n",
    "    for i in range(nb_samples):\n",
    "        out += [\n",
    "            torch.normal(mu, var.sqrt())\n",
    "        ]\n",
    "    return torch.stack(out, dim=0)"
   ]
  },
  {
   "cell_type": "code",
   "execution_count": 26,
   "metadata": {},
   "outputs": [],
   "source": [
    "# generate some clusters\n",
    "cluster1 = sample(\n",
    "    torch.Tensor([2.5, 2.5]),\n",
    "    torch.Tensor([1.2, .8]),\n",
    "    nb_samples=500\n",
    ")\n",
    "\n",
    "cluster2 = sample(\n",
    "    torch.Tensor([7.5, 7.5]),\n",
    "    torch.Tensor([.75, .5]),\n",
    "    nb_samples=500\n",
    ")\n",
    "\n",
    "cluster3 = sample(\n",
    "    torch.Tensor([8, 1.5]),\n",
    "    torch.Tensor([.6, .8]),\n",
    "    nb_samples=1000\n",
    ")"
   ]
  },
  {
   "cell_type": "code",
   "execution_count": 27,
   "metadata": {},
   "outputs": [],
   "source": [
    "def plot_2d_sample(sample):\n",
    "    sample_np = sample.numpy()\n",
    "    x = sample_np[:, 0]\n",
    "    y = sample_np[:, 1]\n",
    "    plt.scatter(x, y)"
   ]
  },
  {
   "cell_type": "code",
   "execution_count": 28,
   "metadata": {},
   "outputs": [
    {
     "data": {
      "image/png": "[encoded data removed]",
      "text/plain": [
       "<Figure size 432x288 with 1 Axes>"
      ]
     },
     "metadata": {},
     "output_type": "display_data"
    }
   ],
   "source": [
    "# create the dummy dataset, by combining the clusters.\n",
    "X = torch.cat([cluster1, cluster2, cluster3])\n",
    "plot_2d_sample(X)"
   ]
  },
  {
   "cell_type": "code",
   "execution_count": 29,
   "metadata": {},
   "outputs": [],
   "source": [
    "sample = {\"x\": X}"
   ]
  },
  {
   "cell_type": "code",
   "execution_count": 30,
   "metadata": {},
   "outputs": [
    {
     "data": {
      "text/plain": [
       "tensor([[9.9313e-01, 9.8460e-01, 1.2533e-02,  ..., 1.0000e+00, 1.0000e+00,\n",
       "         1.0000e+00],\n",
       "        [6.7581e-04, 7.4875e-03, 9.6026e-01,  ..., 7.4565e-09, 2.9357e-09,\n",
       "         2.3085e-11],\n",
       "        [6.1947e-03, 7.9177e-03, 2.7211e-02,  ..., 1.7864e-07, 2.2593e-08,\n",
       "         2.2293e-08]])"
      ]
     },
     "execution_count": 30,
     "metadata": {},
     "output_type": "execute_result"
    }
   ],
   "source": [
    "p.get_posterior_probs(sample)"
   ]
  },
  {
   "cell_type": "code",
   "execution_count": null,
   "metadata": {},
   "outputs": [],
   "source": []
  }
 ],
 "metadata": {
  "kernelspec": {
   "display_name": "Python 3",
   "language": "python",
   "name": "python3"
  },
  "language_info": {
   "codemirror_mode": {
    "name": "ipython",
    "version": 3
   },
   "file_extension": ".py",
   "mimetype": "text/x-python",
   "name": "python",
   "nbconvert_exporter": "python",
   "pygments_lexer": "ipython3",
   "version": "3.6.5"
  }
 },
 "nbformat": 4,
 "nbformat_minor": 2
}
