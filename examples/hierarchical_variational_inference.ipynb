{
 "cells": [
  {
   "cell_type": "code",
   "execution_count": null,
   "metadata": {},
   "outputs": [],
   "source": [
    "from __future__ import print_function\n",
    "import torch\n",
    "import torch.utils.data\n",
    "from torch import nn, optim\n",
    "from torch.nn import functional as F\n",
    "from torchvision import datasets, transforms\n",
    "from torchvision.utils import save_image\n",
    "\n",
    "batch_size = 128\n",
    "epochs = 10\n",
    "seed = 1\n",
    "log_interval = 10\n",
    "torch.manual_seed(seed)\n",
    "device = \"cpu\""
   ]
  },
  {
   "cell_type": "code",
   "execution_count": null,
   "metadata": {},
   "outputs": [],
   "source": [
    "from Tars.distributions import NormalModel, BernoulliModel\n",
    "from Tars.models import VI\n",
    "from Tars.utils import get_dict_values"
   ]
  },
  {
   "cell_type": "code",
   "execution_count": null,
   "metadata": {},
   "outputs": [],
   "source": [
    "kwargs = {'num_workers': 1, 'pin_memory': True}\n",
    "train_loader = torch.utils.data.DataLoader(\n",
    "    datasets.MNIST('../data', train=True, download=True,\n",
    "                   transform=transforms.ToTensor()),\n",
    "    batch_size=batch_size, shuffle=True, **kwargs)\n",
    "test_loader = torch.utils.data.DataLoader(\n",
    "    datasets.MNIST('../data', train=False, transform=transforms.ToTensor()),\n",
    "    batch_size=batch_size, shuffle=True, **kwargs)"
   ]
  },
  {
   "cell_type": "code",
   "execution_count": null,
   "metadata": {},
   "outputs": [],
   "source": [
    "x_dim = 784\n",
    "a_dim = 64\n",
    "z_dim = 64\n",
    "\n",
    "# inference models\n",
    "class Q1(NormalModel):\n",
    "    def __init__(self):\n",
    "        super(Q1, self).__init__(cond_var=[\"x\"], var=[\"a\"])\n",
    "\n",
    "        self.fc1 = nn.Linear(x_dim, 400)\n",
    "        self.fc21 = nn.Linear(400, a_dim)\n",
    "        self.fc22 = nn.Linear(400, a_dim)\n",
    "\n",
    "    def forward(self, x):\n",
    "        h1 = F.relu(self.fc1(x))\n",
    "        return self.fc21(h1), F.softplus(self.fc22(h1))\n",
    "    \n",
    "class Q2(NormalModel):\n",
    "    def __init__(self):\n",
    "        super(Q2, self).__init__(cond_var=[\"x\"], var=[\"z\"])\n",
    "\n",
    "        self.fc1 = nn.Linear(x_dim, 400)\n",
    "        self.fc21 = nn.Linear(400, z_dim)\n",
    "        self.fc22 = nn.Linear(400, z_dim)\n",
    "\n",
    "    def forward(self, x):\n",
    "        h1 = F.relu(self.fc1(x))\n",
    "        return self.fc21(h1), F.softplus(self.fc22(h1))    \n",
    "    \n",
    "\n",
    "# generative models\n",
    "loc = torch.tensor(0.).to(device)\n",
    "scale = torch.tensor(1.).to(device)\n",
    "p1 = NormalModel(loc=loc, scale=scale, var=[\"z\"], dim=z_dim)\n",
    "    \n",
    "class P2(NormalModel):\n",
    "    def __init__(self):\n",
    "        super(P2, self).__init__(cond_var=[\"z\"], var=[\"a\"])\n",
    "\n",
    "        self.fc1 = nn.Linear(z_dim, 400)\n",
    "        self.fc21 = nn.Linear(400, a_dim)\n",
    "        self.fc22 = nn.Linear(400, a_dim)\n",
    "\n",
    "    def forward(self, x):\n",
    "        h1 = F.relu(self.fc1(x))\n",
    "        return self.fc21(h1), F.softplus(self.fc22(h1))\n",
    "    \n",
    "class P3(BernoulliModel):\n",
    "    def __init__(self):\n",
    "        super(P3, self).__init__(cond_var=[\"a\"], var=[\"x\"])\n",
    "\n",
    "        self.fc3 = nn.Linear(a_dim, 400)\n",
    "        self.fc4 = nn.Linear(400, x_dim)\n",
    "\n",
    "    def forward(self, x):\n",
    "        h3 = F.relu(self.fc3(x))\n",
    "        return F.sigmoid(self.fc4(h3))    \n",
    "    \n",
    "    \n",
    "q1 = Q1()\n",
    "q2 = Q2() \n",
    "\n",
    "p2 = P2()\n",
    "p3 = P3()"
   ]
  },
  {
   "cell_type": "code",
   "execution_count": null,
   "metadata": {},
   "outputs": [],
   "source": [
    "q = q1 * q2\n",
    "_p = p2 * p3\n",
    "p = _p * p1\n",
    "p.to(device)\n",
    "q.to(device)\n",
    "\n",
    "print(p.prob_factorized_text, p.prob_text)\n",
    "print(_p.prob_factorized_text, _p.prob_text)\n",
    "print(q.prob_factorized_text, q.prob_text)"
   ]
  },
  {
   "cell_type": "code",
   "execution_count": null,
   "metadata": {},
   "outputs": [],
   "source": [
    "for param in p.parameters():\n",
    "     print(type(param.data), param.size())"
   ]
  },
  {
   "cell_type": "code",
   "execution_count": null,
   "metadata": {},
   "outputs": [],
   "source": [
    "model = VI(p, q, optim.Adam, {\"lr\":1e-3})"
   ]
  },
  {
   "cell_type": "code",
   "execution_count": null,
   "metadata": {},
   "outputs": [],
   "source": [
    "def train(epoch):\n",
    "    train_loss = 0\n",
    "    for batch_idx, (data, _) in enumerate(train_loader):\n",
    "        data = data.to(device)\n",
    "        lower_bound, loss = model.train({\"x\": data.view(-1, 784)})\n",
    "        train_loss += loss\n",
    "        if batch_idx % log_interval == 0:\n",
    "            print('Train Epoch: {} [{}/{} ({:.0f}%)]\\tLoss: {:.6f}'.format(\n",
    "                epoch, batch_idx * len(data), len(train_loader.dataset),\n",
    "                100. * batch_idx / len(train_loader),\n",
    "                loss.item()))\n",
    "\n",
    "    print('====> Epoch: {} Average loss: {:.4f}'.format(\n",
    "          epoch, train_loss / len(train_loader.dataset)))"
   ]
  },
  {
   "cell_type": "code",
   "execution_count": null,
   "metadata": {},
   "outputs": [],
   "source": [
    "def test(epoch):\n",
    "    test_loss = 0\n",
    "    for i, (data, _) in enumerate(test_loader):\n",
    "        data = data.to(device)\n",
    "        lower_bound, loss = model.test({\"x\": data.view(-1, 784)})\n",
    "        test_loss += loss\n",
    "        z = q.sample({\"x\": data.view(-1, 784)})\n",
    "        z = get_dict_values(z, _p.cond_var, return_dict=True)\n",
    "        recon_batch = _p.sample_mean(z)\n",
    "        if i == 0:\n",
    "            n = min(data.size(0), 8)\n",
    "            comparison = torch.cat([data[:n],\n",
    "                                  recon_batch.view(batch_size, 1, 28, 28)[:n]])\n",
    "            save_image(comparison.cpu(),\n",
    "                     'results/reconstruction_' + str(epoch) + '.png', nrow=n)\n",
    "\n",
    "    test_loss /= len(test_loader.dataset)\n",
    "    print('====> Test set loss: {:.4f}'.format(test_loss))"
   ]
  },
  {
   "cell_type": "code",
   "execution_count": null,
   "metadata": {},
   "outputs": [],
   "source": [
    "for epoch in range(1, epochs + 1):\n",
    "    train(epoch)\n",
    "    test(epoch)\n",
    "    with torch.no_grad():\n",
    "        sample_z = 0.3 * torch.randn(64, z_dim).to(device)\n",
    "        sample = _p.sample_mean({\"z\":sample_z}).cpu()\n",
    "        save_image(sample.view(64, 1, 28, 28),\n",
    "                   'results/sample_' + str(epoch) + '.png')"
   ]
  },
  {
   "cell_type": "code",
   "execution_count": null,
   "metadata": {},
   "outputs": [],
   "source": []
  },
  {
   "cell_type": "code",
   "execution_count": null,
   "metadata": {},
   "outputs": [],
   "source": []
  }
 ],
 "metadata": {
  "kernelspec": {
   "display_name": "Python 3",
   "language": "python",
   "name": "python3"
  },
  "language_info": {
   "codemirror_mode": {
    "name": "ipython",
    "version": 3
   },
   "file_extension": ".py",
   "mimetype": "text/x-python",
   "name": "python",
   "nbconvert_exporter": "python",
   "pygments_lexer": "ipython3",
   "version": "3.6.5"
  }
 },
 "nbformat": 4,
 "nbformat_minor": 2
}
