{
 "cells": [
  {
   "cell_type": "code",
   "execution_count": 1,
   "metadata": {},
   "outputs": [],
   "source": [
    "from __future__ import print_function\n",
    "import torch\n",
    "import torch.utils.data\n",
    "from torch import nn, optim\n",
    "from torch.nn import functional as F\n",
    "from torchvision import datasets, transforms\n",
    "from torchvision.utils import save_image\n",
    "\n",
    "batch_size = 128\n",
    "epochs = 10\n",
    "seed = 1\n",
    "log_interval = 10\n",
    "torch.manual_seed(seed)\n",
    "device = \"cpu\""
   ]
  },
  {
   "cell_type": "code",
   "execution_count": 2,
   "metadata": {},
   "outputs": [],
   "source": [
    "from Tars.distributions import NormalModel, BernoulliModel\n",
    "from Tars.distributions.divergences import KullbackLeibler\n",
    "from Tars.models import VAE"
   ]
  },
  {
   "cell_type": "code",
   "execution_count": 3,
   "metadata": {},
   "outputs": [],
   "source": [
    "kwargs = {'num_workers': 1, 'pin_memory': True}\n",
    "train_loader = torch.utils.data.DataLoader(\n",
    "    datasets.MNIST('../data', train=True, download=True,\n",
    "                   transform=transforms.ToTensor()),\n",
    "    batch_size=batch_size, shuffle=True, **kwargs)\n",
    "test_loader = torch.utils.data.DataLoader(\n",
    "    datasets.MNIST('../data', train=False, transform=transforms.ToTensor()),\n",
    "    batch_size=batch_size, shuffle=True, **kwargs)"
   ]
  },
  {
   "cell_type": "code",
   "execution_count": 4,
   "metadata": {},
   "outputs": [],
   "source": [
    "x_dim = 784\n",
    "y_dim = 10\n",
    "z_dim = 64\n",
    "\n",
    "# inference model q(z|x,y)\n",
    "class Inference(NormalModel):\n",
    "    def __init__(self):\n",
    "        super(Inference, self).__init__(cond_var=[\"x\",\"y\"], var=[\"z\"])\n",
    "\n",
    "        self.fc1 = nn.Linear(x_dim+y_dim, 400)\n",
    "        self.fc21 = nn.Linear(400, z_dim)\n",
    "        self.fc22 = nn.Linear(400, z_dim)\n",
    "\n",
    "    def forward(self, x, y):\n",
    "        h1 = F.relu(self.fc1(torch.cat([x, y], 1)))\n",
    "        return self.fc21(h1), F.softplus(self.fc22(h1))\n",
    "    \n",
    "# generative model p(x|z,y)    \n",
    "class Generator(BernoulliModel):\n",
    "    def __init__(self):\n",
    "        super(Generator, self).__init__(cond_var=[\"z\",\"y\"], var=[\"x\"])\n",
    "\n",
    "        self.fc3 = nn.Linear(z_dim+y_dim, 400)\n",
    "        self.fc4 = nn.Linear(400, x_dim)\n",
    "\n",
    "    def forward(self, z, y):\n",
    "        h3 = F.relu(self.fc3(torch.cat([z, y], 1)))\n",
    "        return F.sigmoid(self.fc4(h3))\n",
    "    \n",
    "# prior model p(z|y)\n",
    "class Prior(NormalModel):\n",
    "    def __init__(self):\n",
    "        super(Prior, self).__init__(cond_var=[\"y\"], var=[\"z\"])\n",
    "\n",
    "        self.fc1 = nn.Linear(y_dim, 400)\n",
    "        self.fc21 = nn.Linear(400, z_dim)\n",
    "        self.fc22 = nn.Linear(400, z_dim)\n",
    "\n",
    "    def forward(self, y):\n",
    "        h1 = F.relu(self.fc1(y))\n",
    "        return self.fc21(h1), F.softplus(self.fc22(h1))"
   ]
  },
  {
   "cell_type": "code",
   "execution_count": 5,
   "metadata": {},
   "outputs": [
    {
     "data": {
      "text/plain": [
       "Prior(\n",
       "  (fc1): Linear(in_features=10, out_features=400, bias=True)\n",
       "  (fc21): Linear(in_features=400, out_features=64, bias=True)\n",
       "  (fc22): Linear(in_features=400, out_features=64, bias=True)\n",
       ")"
      ]
     },
     "execution_count": 5,
     "metadata": {},
     "output_type": "execute_result"
    }
   ],
   "source": [
    "p = Generator()\n",
    "q = Inference()\n",
    "prior = Prior()\n",
    "\n",
    "p.to(device)\n",
    "q.to(device)\n",
    "prior.to(device)"
   ]
  },
  {
   "cell_type": "code",
   "execution_count": 6,
   "metadata": {},
   "outputs": [],
   "source": [
    "kl = KullbackLeibler(q, prior)\n",
    "model = VAE(q, p, regularizer=kl, optimizer=optim.Adam, optimizer_params={\"lr\":1e-3})"
   ]
  },
  {
   "cell_type": "code",
   "execution_count": 7,
   "metadata": {},
   "outputs": [],
   "source": [
    "def train(epoch):\n",
    "    train_loss = 0\n",
    "    for batch_idx, (data_x, data_y) in enumerate(train_loader):\n",
    "        data_x = data_x.to(device)\n",
    "        data_y = torch.eye(10)[data_y].to(device)\n",
    "        lower_bound, loss = model.train({\"x\": data_x.view(-1, 784), \"y\": data_y})\n",
    "        train_loss += loss\n",
    "        if batch_idx % log_interval == 0:\n",
    "            print('Train Epoch: {} [{}/{} ({:.0f}%)]\\tLoss: {:.6f}'.format(\n",
    "                epoch, batch_idx * len(data_x), len(train_loader.dataset),\n",
    "                100. * batch_idx / len(train_loader),\n",
    "                loss.item()))\n",
    "\n",
    "    print('====> Epoch: {} Average loss: {:.4f}'.format(\n",
    "          epoch, train_loss / len(train_loader.dataset)))"
   ]
  },
  {
   "cell_type": "code",
   "execution_count": 8,
   "metadata": {},
   "outputs": [],
   "source": [
    "def test(epoch):\n",
    "    test_loss = 0\n",
    "    for i, (data_x, data_y) in enumerate(test_loader):\n",
    "        data_x = data_x.to(device)\n",
    "        data_y = torch.eye(10)[data_y].to(device)\n",
    "        lower_bound, loss = model.test({\"x\": data_x.view(-1, 784), \"y\": data_y})\n",
    "        test_loss += loss\n",
    "        z = prior.sample({\"y\": data_y})\n",
    "        recon_batch = p.sample_mean(z)\n",
    "        if i == 0:\n",
    "            n = min(data_x.size(0), 8)\n",
    "            comparison = torch.cat([data_x[:n],\n",
    "                                  recon_batch.view(batch_size, 1, 28, 28)[:n]])\n",
    "            save_image(comparison.cpu(),\n",
    "                     'results/reconstruction_' + str(epoch) + '.png', nrow=n)\n",
    "\n",
    "    test_loss /= len(test_loader.dataset)\n",
    "    print('====> Test set loss: {:.4f}'.format(test_loss))"
   ]
  },
  {
   "cell_type": "code",
   "execution_count": 9,
   "metadata": {},
   "outputs": [
    {
     "name": "stdout",
     "output_type": "stream",
     "text": [
      "Train Epoch: 1 [0/60000 (0%)]\tLoss: 547.325562\n",
      "Train Epoch: 1 [1280/60000 (2%)]\tLoss: 316.093933\n",
      "Train Epoch: 1 [2560/60000 (4%)]\tLoss: 236.016205\n",
      "Train Epoch: 1 [3840/60000 (6%)]\tLoss: 224.145859\n",
      "Train Epoch: 1 [5120/60000 (9%)]\tLoss: 214.820953\n",
      "Train Epoch: 1 [6400/60000 (11%)]\tLoss: 218.296539\n",
      "Train Epoch: 1 [7680/60000 (13%)]\tLoss: 206.853302\n",
      "Train Epoch: 1 [8960/60000 (15%)]\tLoss: 195.152634\n",
      "Train Epoch: 1 [10240/60000 (17%)]\tLoss: 196.146439\n",
      "Train Epoch: 1 [11520/60000 (19%)]\tLoss: 193.313904\n",
      "Train Epoch: 1 [12800/60000 (21%)]\tLoss: 178.211395\n",
      "Train Epoch: 1 [14080/60000 (23%)]\tLoss: 170.914291\n",
      "Train Epoch: 1 [15360/60000 (26%)]\tLoss: 172.332901\n",
      "Train Epoch: 1 [16640/60000 (28%)]\tLoss: 168.993408\n",
      "Train Epoch: 1 [17920/60000 (30%)]\tLoss: 165.227051\n",
      "Train Epoch: 1 [19200/60000 (32%)]\tLoss: 161.636200\n",
      "Train Epoch: 1 [20480/60000 (34%)]\tLoss: 159.586349\n",
      "Train Epoch: 1 [21760/60000 (36%)]\tLoss: 150.208115\n",
      "Train Epoch: 1 [23040/60000 (38%)]\tLoss: 149.417862\n",
      "Train Epoch: 1 [24320/60000 (41%)]\tLoss: 151.692139\n",
      "Train Epoch: 1 [25600/60000 (43%)]\tLoss: 147.160660\n",
      "Train Epoch: 1 [26880/60000 (45%)]\tLoss: 144.157700\n",
      "Train Epoch: 1 [28160/60000 (47%)]\tLoss: 146.346069\n",
      "Train Epoch: 1 [29440/60000 (49%)]\tLoss: 144.349884\n",
      "Train Epoch: 1 [30720/60000 (51%)]\tLoss: 143.464432\n",
      "Train Epoch: 1 [32000/60000 (53%)]\tLoss: 138.931168\n",
      "Train Epoch: 1 [33280/60000 (55%)]\tLoss: 141.173538\n",
      "Train Epoch: 1 [34560/60000 (58%)]\tLoss: 141.995148\n",
      "Train Epoch: 1 [35840/60000 (60%)]\tLoss: 142.811539\n",
      "Train Epoch: 1 [37120/60000 (62%)]\tLoss: 140.214294\n",
      "Train Epoch: 1 [38400/60000 (64%)]\tLoss: 137.036316\n",
      "Train Epoch: 1 [39680/60000 (66%)]\tLoss: 130.803818\n",
      "Train Epoch: 1 [40960/60000 (68%)]\tLoss: 135.029633\n",
      "Train Epoch: 1 [42240/60000 (70%)]\tLoss: 132.531387\n",
      "Train Epoch: 1 [43520/60000 (72%)]\tLoss: 128.696106\n",
      "Train Epoch: 1 [44800/60000 (75%)]\tLoss: 126.598915\n",
      "Train Epoch: 1 [46080/60000 (77%)]\tLoss: 128.037155\n",
      "Train Epoch: 1 [47360/60000 (79%)]\tLoss: 125.621933\n",
      "Train Epoch: 1 [48640/60000 (81%)]\tLoss: 123.962669\n",
      "Train Epoch: 1 [49920/60000 (83%)]\tLoss: 126.439888\n",
      "Train Epoch: 1 [51200/60000 (85%)]\tLoss: 127.638817\n",
      "Train Epoch: 1 [52480/60000 (87%)]\tLoss: 128.550308\n",
      "Train Epoch: 1 [53760/60000 (90%)]\tLoss: 123.485130\n",
      "Train Epoch: 1 [55040/60000 (92%)]\tLoss: 119.437653\n",
      "Train Epoch: 1 [56320/60000 (94%)]\tLoss: 123.568726\n",
      "Train Epoch: 1 [57600/60000 (96%)]\tLoss: 119.594780\n",
      "Train Epoch: 1 [58880/60000 (98%)]\tLoss: 120.254158\n",
      "====> Epoch: 1 Average loss: 1.2463\n",
      "====> Test set loss: 0.9346\n",
      "Train Epoch: 2 [0/60000 (0%)]\tLoss: 117.360275\n",
      "Train Epoch: 2 [1280/60000 (2%)]\tLoss: 117.578506\n",
      "Train Epoch: 2 [2560/60000 (4%)]\tLoss: 116.116997\n",
      "Train Epoch: 2 [3840/60000 (6%)]\tLoss: 114.526596\n",
      "Train Epoch: 2 [5120/60000 (9%)]\tLoss: 117.382210\n",
      "Train Epoch: 2 [6400/60000 (11%)]\tLoss: 120.989807\n",
      "Train Epoch: 2 [7680/60000 (13%)]\tLoss: 118.200996\n",
      "Train Epoch: 2 [8960/60000 (15%)]\tLoss: 115.109230\n",
      "Train Epoch: 2 [10240/60000 (17%)]\tLoss: 112.276688\n",
      "Train Epoch: 2 [11520/60000 (19%)]\tLoss: 115.114029\n",
      "Train Epoch: 2 [12800/60000 (21%)]\tLoss: 114.398880\n",
      "Train Epoch: 2 [14080/60000 (23%)]\tLoss: 109.747124\n",
      "Train Epoch: 2 [15360/60000 (26%)]\tLoss: 108.763123\n",
      "Train Epoch: 2 [16640/60000 (28%)]\tLoss: 111.379723\n",
      "Train Epoch: 2 [17920/60000 (30%)]\tLoss: 111.205231\n",
      "Train Epoch: 2 [19200/60000 (32%)]\tLoss: 116.682686\n",
      "Train Epoch: 2 [20480/60000 (34%)]\tLoss: 111.707817\n",
      "Train Epoch: 2 [21760/60000 (36%)]\tLoss: 114.665619\n",
      "Train Epoch: 2 [23040/60000 (38%)]\tLoss: 109.416245\n",
      "Train Epoch: 2 [24320/60000 (41%)]\tLoss: 110.701439\n",
      "Train Epoch: 2 [25600/60000 (43%)]\tLoss: 108.156281\n",
      "Train Epoch: 2 [26880/60000 (45%)]\tLoss: 111.596268\n",
      "Train Epoch: 2 [28160/60000 (47%)]\tLoss: 106.289276\n",
      "Train Epoch: 2 [29440/60000 (49%)]\tLoss: 107.929253\n",
      "Train Epoch: 2 [30720/60000 (51%)]\tLoss: 111.577736\n",
      "Train Epoch: 2 [32000/60000 (53%)]\tLoss: 109.109245\n",
      "Train Epoch: 2 [33280/60000 (55%)]\tLoss: 106.597282\n",
      "Train Epoch: 2 [34560/60000 (58%)]\tLoss: 110.656143\n",
      "Train Epoch: 2 [35840/60000 (60%)]\tLoss: 107.032639\n",
      "Train Epoch: 2 [37120/60000 (62%)]\tLoss: 102.209061\n",
      "Train Epoch: 2 [38400/60000 (64%)]\tLoss: 104.877975\n",
      "Train Epoch: 2 [39680/60000 (66%)]\tLoss: 107.179062\n",
      "Train Epoch: 2 [40960/60000 (68%)]\tLoss: 106.796486\n",
      "Train Epoch: 2 [42240/60000 (70%)]\tLoss: 103.772980\n",
      "Train Epoch: 2 [43520/60000 (72%)]\tLoss: 103.543266\n",
      "Train Epoch: 2 [44800/60000 (75%)]\tLoss: 103.309967\n",
      "Train Epoch: 2 [46080/60000 (77%)]\tLoss: 103.453110\n"
     ]
    },
    {
     "name": "stderr",
     "output_type": "stream",
     "text": [
      "Process Process-3:\n",
      "Traceback (most recent call last):\n",
      "  File \"/Users/masa/.pyenv/versions/anaconda3-5.2.0/lib/python3.6/multiprocessing/process.py\", line 258, in _bootstrap\n",
      "    self.run()\n",
      "  File \"/Users/masa/.pyenv/versions/anaconda3-5.2.0/lib/python3.6/multiprocessing/process.py\", line 93, in run\n",
      "    self._target(*self._args, **self._kwargs)\n"
     ]
    },
    {
     "name": "stdout",
     "output_type": "stream",
     "text": [
      "Train Epoch: 2 [47360/60000 (79%)]\tLoss: 103.692680\n"
     ]
    },
    {
     "name": "stderr",
     "output_type": "stream",
     "text": [
      "  File \"/Users/masa/.pyenv/versions/anaconda3-5.2.0/lib/python3.6/site-packages/torch/utils/data/dataloader.py\", line 52, in _worker_loop\n",
      "    r = index_queue.get()\n",
      "  File \"/Users/masa/.pyenv/versions/anaconda3-5.2.0/lib/python3.6/multiprocessing/queues.py\", line 335, in get\n",
      "    res = self._reader.recv_bytes()\n",
      "  File \"/Users/masa/.pyenv/versions/anaconda3-5.2.0/lib/python3.6/multiprocessing/connection.py\", line 216, in recv_bytes\n",
      "    buf = self._recv_bytes(maxlength)\n",
      "  File \"/Users/masa/.pyenv/versions/anaconda3-5.2.0/lib/python3.6/multiprocessing/connection.py\", line 407, in _recv_bytes\n",
      "    buf = self._recv(4)\n",
      "  File \"/Users/masa/.pyenv/versions/anaconda3-5.2.0/lib/python3.6/multiprocessing/connection.py\", line 379, in _recv\n",
      "    chunk = read(handle, remaining)\n",
      "KeyboardInterrupt\n"
     ]
    },
    {
     "ename": "KeyboardInterrupt",
     "evalue": "",
     "output_type": "error",
     "traceback": [
      "\u001b[0;31m---------------------------------------------------------------------------\u001b[0m",
      "\u001b[0;31mKeyboardInterrupt\u001b[0m                         Traceback (most recent call last)",
      "\u001b[0;32m<ipython-input-9-1a54b89bdef4>\u001b[0m in \u001b[0;36m<module>\u001b[0;34m()\u001b[0m\n\u001b[1;32m      1\u001b[0m \u001b[0;32mfor\u001b[0m \u001b[0mepoch\u001b[0m \u001b[0;32min\u001b[0m \u001b[0mrange\u001b[0m\u001b[0;34m(\u001b[0m\u001b[0;36m1\u001b[0m\u001b[0;34m,\u001b[0m \u001b[0mepochs\u001b[0m \u001b[0;34m+\u001b[0m \u001b[0;36m1\u001b[0m\u001b[0;34m)\u001b[0m\u001b[0;34m:\u001b[0m\u001b[0;34m\u001b[0m\u001b[0m\n\u001b[0;32m----> 2\u001b[0;31m     \u001b[0mtrain\u001b[0m\u001b[0;34m(\u001b[0m\u001b[0mepoch\u001b[0m\u001b[0;34m)\u001b[0m\u001b[0;34m\u001b[0m\u001b[0m\n\u001b[0m\u001b[1;32m      3\u001b[0m     \u001b[0mtest\u001b[0m\u001b[0;34m(\u001b[0m\u001b[0mepoch\u001b[0m\u001b[0;34m)\u001b[0m\u001b[0;34m\u001b[0m\u001b[0m\n\u001b[1;32m      4\u001b[0m     \u001b[0;32mwith\u001b[0m \u001b[0mtorch\u001b[0m\u001b[0;34m.\u001b[0m\u001b[0mno_grad\u001b[0m\u001b[0;34m(\u001b[0m\u001b[0;34m)\u001b[0m\u001b[0;34m:\u001b[0m\u001b[0;34m\u001b[0m\u001b[0m\n\u001b[1;32m      5\u001b[0m         \u001b[0mplot_number\u001b[0m \u001b[0;34m=\u001b[0m \u001b[0;36m4\u001b[0m\u001b[0;34m\u001b[0m\u001b[0m\n",
      "\u001b[0;32m<ipython-input-7-0832f2f623e0>\u001b[0m in \u001b[0;36mtrain\u001b[0;34m(epoch)\u001b[0m\n\u001b[1;32m      4\u001b[0m         \u001b[0mdata_x\u001b[0m \u001b[0;34m=\u001b[0m \u001b[0mdata_x\u001b[0m\u001b[0;34m.\u001b[0m\u001b[0mto\u001b[0m\u001b[0;34m(\u001b[0m\u001b[0mdevice\u001b[0m\u001b[0;34m)\u001b[0m\u001b[0;34m\u001b[0m\u001b[0m\n\u001b[1;32m      5\u001b[0m         \u001b[0mdata_y\u001b[0m \u001b[0;34m=\u001b[0m \u001b[0mtorch\u001b[0m\u001b[0;34m.\u001b[0m\u001b[0meye\u001b[0m\u001b[0;34m(\u001b[0m\u001b[0;36m10\u001b[0m\u001b[0;34m)\u001b[0m\u001b[0;34m[\u001b[0m\u001b[0mdata_y\u001b[0m\u001b[0;34m]\u001b[0m\u001b[0;34m.\u001b[0m\u001b[0mto\u001b[0m\u001b[0;34m(\u001b[0m\u001b[0mdevice\u001b[0m\u001b[0;34m)\u001b[0m\u001b[0;34m\u001b[0m\u001b[0m\n\u001b[0;32m----> 6\u001b[0;31m         \u001b[0mlower_bound\u001b[0m\u001b[0;34m,\u001b[0m \u001b[0mloss\u001b[0m \u001b[0;34m=\u001b[0m \u001b[0mmodel\u001b[0m\u001b[0;34m.\u001b[0m\u001b[0mtrain\u001b[0m\u001b[0;34m(\u001b[0m\u001b[0;34m{\u001b[0m\u001b[0;34m\"x\"\u001b[0m\u001b[0;34m:\u001b[0m \u001b[0mdata_x\u001b[0m\u001b[0;34m.\u001b[0m\u001b[0mview\u001b[0m\u001b[0;34m(\u001b[0m\u001b[0;34m-\u001b[0m\u001b[0;36m1\u001b[0m\u001b[0;34m,\u001b[0m \u001b[0;36m784\u001b[0m\u001b[0;34m)\u001b[0m\u001b[0;34m,\u001b[0m \u001b[0;34m\"y\"\u001b[0m\u001b[0;34m:\u001b[0m \u001b[0mdata_y\u001b[0m\u001b[0;34m}\u001b[0m\u001b[0;34m)\u001b[0m\u001b[0;34m\u001b[0m\u001b[0m\n\u001b[0m\u001b[1;32m      7\u001b[0m         \u001b[0mtrain_loss\u001b[0m \u001b[0;34m+=\u001b[0m \u001b[0mloss\u001b[0m\u001b[0;34m\u001b[0m\u001b[0m\n\u001b[1;32m      8\u001b[0m         \u001b[0;32mif\u001b[0m \u001b[0mbatch_idx\u001b[0m \u001b[0;34m%\u001b[0m \u001b[0mlog_interval\u001b[0m \u001b[0;34m==\u001b[0m \u001b[0;36m0\u001b[0m\u001b[0;34m:\u001b[0m\u001b[0;34m\u001b[0m\u001b[0m\n",
      "\u001b[0;32m~/Tars_pytorch/Tars/models/vae.py\u001b[0m in \u001b[0;36mtrain\u001b[0;34m(self, train_x, annealing_beta)\u001b[0m\n\u001b[1;32m     33\u001b[0m \u001b[0;34m\u001b[0m\u001b[0m\n\u001b[1;32m     34\u001b[0m         \u001b[0;31m# backprop\u001b[0m\u001b[0;34m\u001b[0m\u001b[0;34m\u001b[0m\u001b[0m\n\u001b[0;32m---> 35\u001b[0;31m         \u001b[0mloss\u001b[0m\u001b[0;34m.\u001b[0m\u001b[0mbackward\u001b[0m\u001b[0;34m(\u001b[0m\u001b[0;34m)\u001b[0m\u001b[0;34m\u001b[0m\u001b[0m\n\u001b[0m\u001b[1;32m     36\u001b[0m \u001b[0;34m\u001b[0m\u001b[0m\n\u001b[1;32m     37\u001b[0m         \u001b[0;31m# update params\u001b[0m\u001b[0;34m\u001b[0m\u001b[0;34m\u001b[0m\u001b[0m\n",
      "\u001b[0;32m~/.pyenv/versions/anaconda3-5.2.0/lib/python3.6/site-packages/torch/tensor.py\u001b[0m in \u001b[0;36mbackward\u001b[0;34m(self, gradient, retain_graph, create_graph)\u001b[0m\n\u001b[1;32m     91\u001b[0m                 \u001b[0mproducts\u001b[0m\u001b[0;34m.\u001b[0m \u001b[0mDefaults\u001b[0m \u001b[0mto\u001b[0m\u001b[0;31m \u001b[0m\u001b[0;31m`\u001b[0m\u001b[0;31m`\u001b[0m\u001b[0;32mFalse\u001b[0m\u001b[0;31m`\u001b[0m\u001b[0;31m`\u001b[0m\u001b[0;34m.\u001b[0m\u001b[0;34m\u001b[0m\u001b[0m\n\u001b[1;32m     92\u001b[0m         \"\"\"\n\u001b[0;32m---> 93\u001b[0;31m         \u001b[0mtorch\u001b[0m\u001b[0;34m.\u001b[0m\u001b[0mautograd\u001b[0m\u001b[0;34m.\u001b[0m\u001b[0mbackward\u001b[0m\u001b[0;34m(\u001b[0m\u001b[0mself\u001b[0m\u001b[0;34m,\u001b[0m \u001b[0mgradient\u001b[0m\u001b[0;34m,\u001b[0m \u001b[0mretain_graph\u001b[0m\u001b[0;34m,\u001b[0m \u001b[0mcreate_graph\u001b[0m\u001b[0;34m)\u001b[0m\u001b[0;34m\u001b[0m\u001b[0m\n\u001b[0m\u001b[1;32m     94\u001b[0m \u001b[0;34m\u001b[0m\u001b[0m\n\u001b[1;32m     95\u001b[0m     \u001b[0;32mdef\u001b[0m \u001b[0mregister_hook\u001b[0m\u001b[0;34m(\u001b[0m\u001b[0mself\u001b[0m\u001b[0;34m,\u001b[0m \u001b[0mhook\u001b[0m\u001b[0;34m)\u001b[0m\u001b[0;34m:\u001b[0m\u001b[0;34m\u001b[0m\u001b[0m\n",
      "\u001b[0;32m~/.pyenv/versions/anaconda3-5.2.0/lib/python3.6/site-packages/torch/autograd/__init__.py\u001b[0m in \u001b[0;36mbackward\u001b[0;34m(tensors, grad_tensors, retain_graph, create_graph, grad_variables)\u001b[0m\n\u001b[1;32m     87\u001b[0m     Variable._execution_engine.run_backward(\n\u001b[1;32m     88\u001b[0m         \u001b[0mtensors\u001b[0m\u001b[0;34m,\u001b[0m \u001b[0mgrad_tensors\u001b[0m\u001b[0;34m,\u001b[0m \u001b[0mretain_graph\u001b[0m\u001b[0;34m,\u001b[0m \u001b[0mcreate_graph\u001b[0m\u001b[0;34m,\u001b[0m\u001b[0;34m\u001b[0m\u001b[0m\n\u001b[0;32m---> 89\u001b[0;31m         allow_unreachable=True)  # allow_unreachable flag\n\u001b[0m\u001b[1;32m     90\u001b[0m \u001b[0;34m\u001b[0m\u001b[0m\n\u001b[1;32m     91\u001b[0m \u001b[0;34m\u001b[0m\u001b[0m\n",
      "\u001b[0;31mKeyboardInterrupt\u001b[0m: "
     ]
    }
   ],
   "source": [
    "for epoch in range(1, epochs + 1):\n",
    "    train(epoch)\n",
    "    test(epoch)\n",
    "    with torch.no_grad():\n",
    "        plot_number = 4\n",
    "        sample_z = 0.3 * torch.randn(64, z_dim).to(device)\n",
    "        sample_y = torch.eye(10)[[plot_number]*64].to(device)\n",
    "        \n",
    "        sample = p.sample_mean({\"z\":sample_z, \"y\":sample_y}).cpu()\n",
    "        save_image(sample.view(64, 1, 28, 28),\n",
    "                   'results/sample_' + str(epoch) + '.png')"
   ]
  },
  {
   "cell_type": "code",
   "execution_count": null,
   "metadata": {},
   "outputs": [],
   "source": []
  },
  {
   "cell_type": "code",
   "execution_count": null,
   "metadata": {},
   "outputs": [],
   "source": []
  }
 ],
 "metadata": {
  "kernelspec": {
   "display_name": "Python 3",
   "language": "python",
   "name": "python3"
  },
  "language_info": {
   "codemirror_mode": {
    "name": "ipython",
    "version": 3
   },
   "file_extension": ".py",
   "mimetype": "text/x-python",
   "name": "python",
   "nbconvert_exporter": "python",
   "pygments_lexer": "ipython3",
   "version": "3.6.5"
  }
 },
 "nbformat": 4,
 "nbformat_minor": 2
}
