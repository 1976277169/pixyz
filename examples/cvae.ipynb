{
 "cells": [
  {
   "cell_type": "code",
   "execution_count": null,
   "metadata": {},
   "outputs": [],
   "source": [
    "from __future__ import print_function\n",
    "import torch\n",
    "import torch.utils.data\n",
    "from torch import nn, optim\n",
    "from torch.nn import functional as F\n",
    "from torchvision import datasets, transforms\n",
    "from torchvision.utils import save_image\n",
    "\n",
    "batch_size = 128\n",
    "epochs = 10\n",
    "seed = 1\n",
    "log_interval = 10\n",
    "torch.manual_seed(seed)\n",
    "device = \"cuda\""
   ]
  },
  {
   "cell_type": "code",
   "execution_count": null,
   "metadata": {},
   "outputs": [],
   "source": [
    "from Tars.distributions import GaussianModel, BernoulliModel\n",
    "from Tars.models import VAE"
   ]
  },
  {
   "cell_type": "code",
   "execution_count": null,
   "metadata": {},
   "outputs": [],
   "source": [
    "kwargs = {'num_workers': 1, 'pin_memory': True}\n",
    "train_loader = torch.utils.data.DataLoader(\n",
    "    datasets.MNIST('../data', train=True, download=True,\n",
    "                   transform=transforms.ToTensor()),\n",
    "    batch_size=batch_size, shuffle=True, **kwargs)\n",
    "test_loader = torch.utils.data.DataLoader(\n",
    "    datasets.MNIST('../data', train=False, transform=transforms.ToTensor()),\n",
    "    batch_size=batch_size, shuffle=True, **kwargs)"
   ]
  },
  {
   "cell_type": "code",
   "execution_count": null,
   "metadata": {},
   "outputs": [],
   "source": [
    "x_dim = 784\n",
    "y_dim = 10\n",
    "z_dim = 64\n",
    "\n",
    "# inference model q(z|x,y)\n",
    "class Inference(GaussianModel):\n",
    "    def __init__(self):\n",
    "        super(Inference, self).__init__(cond_var=[\"x\",\"y\"], var=[\"z\"])\n",
    "\n",
    "        self.fc1 = nn.Linear(x_dim+y_dim, 400)\n",
    "        self.fc21 = nn.Linear(400, z_dim)\n",
    "        self.fc22 = nn.Linear(400, z_dim)\n",
    "\n",
    "    def forward(self, x, y):\n",
    "        h1 = F.relu(self.fc1(torch.cat([x, y], 1)))\n",
    "        return self.fc21(h1), F.softplus(self.fc22(h1))\n",
    "    \n",
    "# generative model p(x|z,y)    \n",
    "class Generator(BernoulliModel):\n",
    "    def __init__(self):\n",
    "        super(Generator, self).__init__(cond_var=[\"z\",\"y\"], var=[\"x\"])\n",
    "\n",
    "        self.fc3 = nn.Linear(z_dim+y_dim, 400)\n",
    "        self.fc4 = nn.Linear(400, x_dim)\n",
    "\n",
    "    def forward(self, z, y):\n",
    "        h3 = F.relu(self.fc3(torch.cat([z, y], 1)))\n",
    "        return F.sigmoid(self.fc4(h3))\n",
    "    \n",
    "# prior model p(z)\n",
    "loc = torch.tensor(0.).cuda()\n",
    "scale = torch.tensor(1.).cuda()\n",
    "prior = GaussianModel(loc=loc, scale=scale, var=[\"z\"], dim=z_dim)"
   ]
  },
  {
   "cell_type": "code",
   "execution_count": null,
   "metadata": {},
   "outputs": [],
   "source": [
    "p = Generator()\n",
    "q = Inference()\n",
    "\n",
    "p.cuda()\n",
    "q.cuda()"
   ]
  },
  {
   "cell_type": "code",
   "execution_count": null,
   "metadata": {},
   "outputs": [],
   "source": [
    "model = VAE(q, p, prior, optim.Adam, {\"lr\":1e-3})"
   ]
  },
  {
   "cell_type": "code",
   "execution_count": null,
   "metadata": {},
   "outputs": [],
   "source": [
    "def train(epoch):\n",
    "    train_loss = 0\n",
    "    for batch_idx, (data_x, data_y) in enumerate(train_loader):\n",
    "        data_x = data_x.to(device)\n",
    "        data_y = torch.eye(10)[data_y].to(device)\n",
    "        lower_bound, loss = model.train({\"x\": data_x.view(-1, 784), \"y\": data_y})\n",
    "        train_loss += loss\n",
    "        if batch_idx % log_interval == 0:\n",
    "            print('Train Epoch: {} [{}/{} ({:.0f}%)]\\tLoss: {:.6f}'.format(\n",
    "                epoch, batch_idx * len(data_x), len(train_loader.dataset),\n",
    "                100. * batch_idx / len(train_loader),\n",
    "                loss.item()))\n",
    "\n",
    "    print('====> Epoch: {} Average loss: {:.4f}'.format(\n",
    "          epoch, train_loss / len(train_loader.dataset)))"
   ]
  },
  {
   "cell_type": "code",
   "execution_count": null,
   "metadata": {},
   "outputs": [],
   "source": [
    "def test(epoch):\n",
    "    test_loss = 0\n",
    "    for i, (data_x, data_y) in enumerate(test_loader):\n",
    "        data_x = data_x.to(device)\n",
    "        data_y = torch.eye(10)[data_y].to(device)\n",
    "        lower_bound, loss = model.test({\"x\": data_x.view(-1, 784), \"y\": data_y})\n",
    "        test_loss += loss\n",
    "        z = q.sample({\"x\": data_x.view(-1, 784), \"y\": data_y})\n",
    "        recon_batch = p.sample_mean(z)\n",
    "        if i == 0:\n",
    "            n = min(data_x.size(0), 8)\n",
    "            comparison = torch.cat([data_x[:n],\n",
    "                                  recon_batch.view(batch_size, 1, 28, 28)[:n]])\n",
    "            save_image(comparison.cpu(),\n",
    "                     'results/reconstruction_' + str(epoch) + '.png', nrow=n)\n",
    "\n",
    "    test_loss /= len(test_loader.dataset)\n",
    "    print('====> Test set loss: {:.4f}'.format(test_loss))"
   ]
  },
  {
   "cell_type": "code",
   "execution_count": null,
   "metadata": {},
   "outputs": [],
   "source": [
    "for epoch in range(1, epochs + 1):\n",
    "    train(epoch)\n",
    "    test(epoch)\n",
    "    with torch.no_grad():\n",
    "        plot_number = 4\n",
    "        sample_z = 0.3 * torch.randn(64, z_dim).to(device)\n",
    "        sample_y = torch.eye(10)[[plot_number]*64].to(device)\n",
    "        \n",
    "        sample = p.sample_mean({\"z\":sample_z, \"y\":sample_y}).cpu()\n",
    "        save_image(sample.view(64, 1, 28, 28),\n",
    "                   'results/sample_' + str(epoch) + '.png')"
   ]
  },
  {
   "cell_type": "code",
   "execution_count": null,
   "metadata": {},
   "outputs": [],
   "source": []
  },
  {
   "cell_type": "code",
   "execution_count": null,
   "metadata": {},
   "outputs": [],
   "source": []
  }
 ],
 "metadata": {
  "kernelspec": {
   "display_name": "Python 3",
   "language": "python",
   "name": "python3"
  },
  "language_info": {
   "codemirror_mode": {
    "name": "ipython",
    "version": 3
   },
   "file_extension": ".py",
   "mimetype": "text/x-python",
   "name": "python",
   "nbconvert_exporter": "python",
   "pygments_lexer": "ipython3",
   "version": "3.5.1"
  }
 },
 "nbformat": 4,
 "nbformat_minor": 2
}
