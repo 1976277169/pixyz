{
 "cells": [
  {
   "cell_type": "code",
   "execution_count": 2,
   "metadata": {},
   "outputs": [
    {
     "data": {
      "text/plain": [
       "<torch._C.Generator at 0x1102d9250>"
      ]
     },
     "execution_count": 2,
     "metadata": {},
     "output_type": "execute_result"
    }
   ],
   "source": [
    "from __future__ import print_function\n",
    "import argparse\n",
    "import torch\n",
    "from torch import nn\n",
    "from torch.nn import functional as F\n",
    "import numpy as np\n",
    "\n",
    "torch.manual_seed(1)"
   ]
  },
  {
   "cell_type": "code",
   "execution_count": 3,
   "metadata": {},
   "outputs": [],
   "source": [
    "from Tars.distributions import Normal"
   ]
  },
  {
   "cell_type": "code",
   "execution_count": 5,
   "metadata": {},
   "outputs": [],
   "source": [
    "x_dim = 20\n",
    "y_dim = 30\n",
    "z_dim = 40\n",
    "a_dim = 50\n",
    "n_batch = 2\n",
    "\n",
    "class P1(Normal):\n",
    "    def __init__(self):\n",
    "        super(P1, self).__init__(cond_var=[\"y\", \"a\"], var=[\"x\"])\n",
    "\n",
    "        self.fc1 = nn.Linear(y_dim, 10)\n",
    "        self.fc2 = nn.Linear(a_dim, 10)\n",
    "        self.fc21 = nn.Linear(10+10, 20)\n",
    "        self.fc22 = nn.Linear(10+10, 20)\n",
    "\n",
    "    def forward(self, a, y):\n",
    "        h1 = F.relu(self.fc1(y))\n",
    "        h2 = F.relu(self.fc2(a))\n",
    "        h12 = torch.cat([h1, h2], 1)\n",
    "        return {\"loc\": self.fc21(h12), \"scale\": F.softplus(self.fc22(h12))}\n",
    "\n",
    "class P2(Normal):\n",
    "    def __init__(self):\n",
    "        super(P2, self).__init__(cond_var=[\"x\", \"y\"], var=[\"z\"])\n",
    "\n",
    "        self.fc3 = nn.Linear(x_dim, 30)\n",
    "        self.fc4 = nn.Linear(30+y_dim, 400)\n",
    "        self.fc51 = nn.Linear(400, 20)\n",
    "        self.fc52 = nn.Linear(400, 20)\n",
    "\n",
    "    def forward(self, x, y):\n",
    "        h3 = F.relu(self.fc3(x))\n",
    "        h4 = F.relu(self.fc4(torch.cat([h3, y], 1)))\n",
    "        return {\"loc\": self.fc51(h4), \"scale\": F.softplus(self.fc52(h4))}\n",
    "    \n",
    "p4 = Normal(loc=0, scale=1, var=[\"a\"], dim=a_dim)\n",
    "p6 = Normal(loc=0, scale=1, var=[\"y\"], dim=y_dim)\n",
    "    \n",
    "x = torch.from_numpy(np.random.random((n_batch, x_dim)).astype(\"float32\"))\n",
    "y = torch.from_numpy(np.random.random((n_batch, y_dim)).astype(\"float32\"))\n",
    "a = torch.from_numpy(np.random.random((n_batch, a_dim)).astype(\"float32\"))"
   ]
  },
  {
   "cell_type": "code",
   "execution_count": 6,
   "metadata": {},
   "outputs": [],
   "source": [
    "p1 = P1()\n",
    "p2 = P2()\n",
    "p3 = p2 * p1\n",
    "p5 = p3 * p4\n",
    "p_all = p1*p2*p4*p6"
   ]
  },
  {
   "cell_type": "code",
   "execution_count": 7,
   "metadata": {},
   "outputs": [
    {
     "name": "stdout",
     "output_type": "stream",
     "text": [
      "p(x|y,a)\n",
      "p(z|x,y)\n",
      "p(z,x|y,a)\n",
      "p(a)\n",
      "p(z,x,a|y) p(z|x,y)p(x|y,a)p(a)\n",
      "p(z,x,a,y) p(z|x,y)p(x|y,a)p(a)p(y)\n"
     ]
    }
   ],
   "source": [
    "print(p1.prob_text)\n",
    "print(p2.prob_text)\n",
    "print(p3.prob_text)\n",
    "print(p4.prob_text)\n",
    "print(p5.prob_text, p5.prob_factorized_text)\n",
    "print(p_all.prob_text, p_all.prob_factorized_text)"
   ]
  },
  {
   "cell_type": "code",
   "execution_count": 8,
   "metadata": {},
   "outputs": [
    {
     "name": "stdout",
     "output_type": "stream",
     "text": [
      "<class 'torch.Tensor'> torch.Size([10, 30])\n",
      "<class 'torch.Tensor'> torch.Size([10])\n",
      "<class 'torch.Tensor'> torch.Size([10, 50])\n",
      "<class 'torch.Tensor'> torch.Size([10])\n",
      "<class 'torch.Tensor'> torch.Size([20, 20])\n",
      "<class 'torch.Tensor'> torch.Size([20])\n",
      "<class 'torch.Tensor'> torch.Size([20, 20])\n",
      "<class 'torch.Tensor'> torch.Size([20])\n",
      "<class 'torch.Tensor'> torch.Size([30, 20])\n",
      "<class 'torch.Tensor'> torch.Size([30])\n",
      "<class 'torch.Tensor'> torch.Size([400, 60])\n",
      "<class 'torch.Tensor'> torch.Size([400])\n",
      "<class 'torch.Tensor'> torch.Size([20, 400])\n",
      "<class 'torch.Tensor'> torch.Size([20])\n",
      "<class 'torch.Tensor'> torch.Size([20, 400])\n",
      "<class 'torch.Tensor'> torch.Size([20])\n"
     ]
    }
   ],
   "source": [
    "for param in p3.parameters():\n",
    "     print(type(param.data), param.size())"
   ]
  },
  {
   "cell_type": "code",
   "execution_count": 9,
   "metadata": {},
   "outputs": [
    {
     "data": {
      "text/plain": [
       "{'x': tensor([[-1.1687, -1.2349,  0.2477,  0.8112, -0.0545,  0.3289,  1.2618,\n",
       "          -0.7544,  0.4870,  0.1913, -0.9061, -0.6871,  0.6354, -1.4555,\n",
       "          -1.9766, -0.8279,  0.6426,  0.2607,  0.3495,  0.0896],\n",
       "         [-0.3252, -0.6510,  0.0144,  2.1300,  0.6521,  0.5451, -0.9443,\n",
       "           0.3575, -0.6997,  1.6965,  0.4928, -0.3187, -0.6309,  0.8209,\n",
       "           0.8508,  1.0935,  0.3769, -0.7018,  0.2010,  0.2280]])}"
      ]
     },
     "execution_count": 9,
     "metadata": {},
     "output_type": "execute_result"
    }
   ],
   "source": [
    "p1.sample({\"a\":a, \"y\":y}, return_all=False)\n",
    "#p2.sample({\"x\":x, \"y\":y})\n",
    "#p3.sample({\"y\":y, \"a\":a})\n",
    "#p4.sample()\n",
    "#p5.sample({\"y\":y})\n",
    "#p6.sample()\n",
    "#p_all.sample()"
   ]
  },
  {
   "cell_type": "code",
   "execution_count": 10,
   "metadata": {},
   "outputs": [
    {
     "name": "stdout",
     "output_type": "stream",
     "text": [
      "tensor([-26.6913, -23.7289])\n",
      "tensor([-19.3082, -19.4417])\n",
      "tensor([-45.8457, -40.8984])\n",
      "tensor([-155.4684, -163.4326, -150.2628, -150.2103, -159.1462, -163.7559,\n",
      "        -168.1021, -162.1275, -160.1595, -142.4833])\n"
     ]
    }
   ],
   "source": [
    "outputs = p1.sample({\"y\":y, \"a\":a})\n",
    "print(p1.log_likelihood(outputs))\n",
    "\n",
    "outputs = p2.sample({\"x\":x, \"y\":y})\n",
    "print(p2.log_likelihood(outputs))\n",
    "\n",
    "outputs = p3.sample({\"y\":y, \"a\":a})\n",
    "print(p3.log_likelihood(outputs))\n",
    "\n",
    "outputs = p_all.sample(batch_size=10)\n",
    "print(p_all.log_likelihood(outputs))"
   ]
  },
  {
   "cell_type": "code",
   "execution_count": null,
   "metadata": {},
   "outputs": [],
   "source": []
  },
  {
   "cell_type": "code",
   "execution_count": null,
   "metadata": {},
   "outputs": [],
   "source": []
  }
 ],
 "metadata": {
  "kernelspec": {
   "display_name": "Python 3",
   "language": "python",
   "name": "python3"
  },
  "language_info": {
   "codemirror_mode": {
    "name": "ipython",
    "version": 3
   },
   "file_extension": ".py",
   "mimetype": "text/x-python",
   "name": "python",
   "nbconvert_exporter": "python",
   "pygments_lexer": "ipython3",
   "version": "3.6.5"
  }
 },
 "nbformat": 4,
 "nbformat_minor": 2
}
