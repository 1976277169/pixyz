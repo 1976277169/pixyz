{
 "cells": [
  {
   "cell_type": "markdown",
   "metadata": {},
   "source": [
    "# 3. 深層生成モデルの実装例：VAE"
   ]
  },
  {
   "cell_type": "code",
   "execution_count": null,
   "metadata": {},
   "outputs": [],
   "source": [
    "from __future__ import print_function\n",
    "import torch\n",
    "import torch.utils.data\n",
    "from torch import nn, optim\n",
    "from torch.nn import functional as F\n",
    "from torchvision import datasets, transforms\n",
    "from torchvision.utils import save_image\n",
    "\n",
    "from Tars.distributions import NormalModel, BernoulliModel\n",
    "from Tars.utils import get_dict_values"
   ]
  },
  {
   "cell_type": "markdown",
   "metadata": {},
   "source": [
    "ここでは，2で説明した確率分布クラスの記述方法を使って， 深層生成モデルの一つであるVAEを実装してみましょう．"
   ]
  },
  {
   "cell_type": "markdown",
   "metadata": {},
   "source": [
    "VAEは， 次の生成モデルを考えます．\n",
    "\n",
    "\\begin{equation*}\n",
    "p_{\\theta}(x,z)=p_{\\theta}(x|z)p(z)\n",
    "\\end{equation*}\n",
    "\n",
    "ただし，xは観測変数，zは潜在変数，$\\theta$はパラメータです．\n",
    "\n",
    "VAEでは，$p_{\\theta}(x|z)$は深層ニューラルネットワークで定義されるので，$\\theta$はニューラルネットワークのパラメータになります．"
   ]
  },
  {
   "cell_type": "markdown",
   "metadata": {},
   "source": [
    "VAEの目標は，周辺尤度$p(x)=\\int p_\\theta(x|z)p(z)dz$を最大化するように生成モデルを学習することです． ただし，これは直接最大化することができません．\n",
    "\n",
    "そこで，代わりに次のような変分下界$\\mathcal{L}(x)$を最大化することで，モデルを学習します．\n",
    "\n",
    "\\begin{equation*}\n",
    "\\log p(x) \\geq E_{q_\\phi(z|x)}[\\log \\frac{p_\\theta(x,z)}{q_\\phi(z|x)}] = \\mathcal{L}(x)\n",
    "\\end{equation*}\n",
    "\n",
    "ただし，$q_\\phi(z|x)$は事後分布$p(z|x)$の近似分布で，$\\phi$はそのパラメータです．VAEではこの分布も深層ニューラルネットワークでモデル化します（amortized inference）．\n",
    "\n",
    "それぞれの分布について，$q_\\phi(ｚ|x)$は$x$を$z$にエンコードするので**エンコーダ**，$p_\\theta(x|z)$は$z$から$x$にデコードするので**デコーダ**と呼ばれます． このことから，このモデルは**variational autoencoders（VAE）**と呼ばれます．"
   ]
  },
  {
   "cell_type": "markdown",
   "metadata": {},
   "source": [
    "ではこれに従って，Tarsの分布クラスで，各分布を設定しましょう．"
   ]
  },
  {
   "cell_type": "code",
   "execution_count": null,
   "metadata": {},
   "outputs": [],
   "source": [
    "x_dim = 784\n",
    "z_dim = 64\n",
    "\n",
    "# inference model q(z|x)\n",
    "class Inference(NormalModel):\n",
    "    def __init__(self):\n",
    "        super(Inference, self).__init__(cond_var=[\"x\"], var=[\"z\"])\n",
    "\n",
    "        self.fc1 = nn.Linear(x_dim, 400)\n",
    "        self.fc21 = nn.Linear(400, z_dim)\n",
    "        self.fc22 = nn.Linear(400, z_dim)\n",
    "\n",
    "    def forward(self, x):\n",
    "        h1 = F.relu(self.fc1(x))\n",
    "        return self.fc21(h1), F.softplus(self.fc22(h1))\n",
    "    \n",
    "q = Inference()\n",
    "    \n",
    "# generative model p(x|z)    \n",
    "class Generator(BernoulliModel):\n",
    "    def __init__(self):\n",
    "        super(Generator, self).__init__(cond_var=[\"z\"], var=[\"x\"])\n",
    "\n",
    "        self.fc3 = nn.Linear(z_dim, 400)\n",
    "        self.fc4 = nn.Linear(400, x_dim)\n",
    "\n",
    "    def forward(self, x):\n",
    "        h3 = F.relu(self.fc3(x))\n",
    "        return F.sigmoid(self.fc4(h3))\n",
    "    \n",
    "_p = Generator()\n",
    "    \n",
    "# prior model p(z)\n",
    "loc = torch.tensor(0.).cuda()\n",
    "scale = torch.tensor(1.).cuda()\n",
    "prior = NormalModel(loc=loc, scale=scale, var=[\"z\"], dim=z_dim)"
   ]
  },
  {
   "cell_type": "markdown",
   "metadata": {},
   "source": [
    "ここでは，エンコーダにガウス分布，デコーダにベルヌーイ分布を用いています.\n",
    "\n",
    "次に，生成モデルの同時分布を設定します．"
   ]
  },
  {
   "cell_type": "code",
   "execution_count": null,
   "metadata": {},
   "outputs": [],
   "source": [
    "p = _p * prior\n",
    "\n",
    "print(p.prob_text)\n",
    "print(p.prob_factorized_text)"
   ]
  },
  {
   "cell_type": "markdown",
   "metadata": {},
   "source": [
    "今回は，GPU計算するので，各分布をGPUに載せます．"
   ]
  },
  {
   "cell_type": "code",
   "execution_count": null,
   "metadata": {},
   "outputs": [],
   "source": [
    "device = \"cuda\"\n",
    "\n",
    "p.to(device)\n",
    "q.to(device)"
   ]
  },
  {
   "cell_type": "markdown",
   "metadata": {},
   "source": [
    "次に，目的関数を設定します． VAEの目的関数は，変分下界でした． \n",
    "\n",
    "変分下界の計算は，前回の確率分布クラスの特性を使うことで，以下のように非常にシンプルに書けます．"
   ]
  },
  {
   "cell_type": "code",
   "execution_count": null,
   "metadata": {},
   "outputs": [],
   "source": [
    "def elbo(x):\n",
    "    #1. sample from q(z|x) \n",
    "    samples = q.sample(x)\n",
    "    \n",
    "    #2. caluculate the lower bound (log p(x,z) - log q(z|x))\n",
    "    lower_bound = p.log_likelihood(samples) - q.log_likelihood(samples)\n",
    "\n",
    "    loss = -torch.mean(lower_bound)\n",
    "\n",
    "    return loss"
   ]
  },
  {
   "cell_type": "markdown",
   "metadata": {},
   "source": [
    "また，パラメータや最適化手法を設定します．"
   ]
  },
  {
   "cell_type": "code",
   "execution_count": null,
   "metadata": {},
   "outputs": [],
   "source": [
    "q_params = list(q.parameters())\n",
    "p_params = list(p.parameters())\n",
    "params = q_params + p_params\n",
    "\n",
    "optimizer = optim.Adam(params, lr=1e-3)"
   ]
  },
  {
   "cell_type": "markdown",
   "metadata": {},
   "source": [
    "学習用のデータを読み込みます．今回はMNISTを使います．"
   ]
  },
  {
   "cell_type": "code",
   "execution_count": null,
   "metadata": {},
   "outputs": [],
   "source": [
    "batch_size = 128\n",
    "\n",
    "kwargs = {'num_workers': 1, 'pin_memory': True}\n",
    "train_loader = torch.utils.data.DataLoader(\n",
    "    datasets.MNIST('../data', train=True, download=True,\n",
    "                   transform=transforms.ToTensor()),\n",
    "    batch_size=batch_size, shuffle=True, **kwargs)\n",
    "test_loader = torch.utils.data.DataLoader(\n",
    "    datasets.MNIST('../data', train=False, transform=transforms.ToTensor()),\n",
    "    batch_size=batch_size, shuffle=True, **kwargs)"
   ]
  },
  {
   "cell_type": "markdown",
   "metadata": {},
   "source": [
    "最後に，trainとtestの関数を設定します．"
   ]
  },
  {
   "cell_type": "code",
   "execution_count": null,
   "metadata": {},
   "outputs": [],
   "source": [
    "log_interval = 10\n",
    "\n",
    "def train(epoch):\n",
    "    p.train()\n",
    "    q.train()    \n",
    "    \n",
    "    train_loss = 0\n",
    "    for batch_idx, (data, _) in enumerate(train_loader):\n",
    "        data = data.to(device)\n",
    "        optimizer.zero_grad()\n",
    "        \n",
    "        # calculate the ELBO\n",
    "        loss = elbo({\"x\": data.view(-1, 784)})\n",
    "        \n",
    "        # backprop\n",
    "        loss.backward()\n",
    "\n",
    "        # update params\n",
    "        optimizer.step()        \n",
    "        \n",
    "        train_loss += loss\n",
    "        \n",
    "        if batch_idx % log_interval == 0:\n",
    "            print('Train Epoch: {} [{}/{} ({:.0f}%)]\\tLoss: {:.6f}'.format(\n",
    "                epoch, batch_idx * len(data), len(train_loader.dataset),\n",
    "                100. * batch_idx / len(train_loader),\n",
    "                loss.item()))\n",
    "\n",
    "    print('====> Epoch: {} Average loss: {:.4f}'.format(\n",
    "          epoch, train_loss / len(train_loader.dataset)))"
   ]
  },
  {
   "cell_type": "code",
   "execution_count": null,
   "metadata": {},
   "outputs": [],
   "source": [
    "def test(epoch):\n",
    "    p.eval()\n",
    "    q.eval()    \n",
    "    \n",
    "    test_loss = 0\n",
    "    for i, (data, _) in enumerate(test_loader):\n",
    "        data = data.cuda()\n",
    "        with torch.no_grad():\n",
    "            loss = elbo({\"x\": data.view(-1, 784)})        \n",
    "        test_loss += loss\n",
    "        \n",
    "        z = q.sample({\"x\": data.view(-1, 784)})\n",
    "        z = get_dict_values(z, _p.cond_var, return_dict=True)\n",
    "        recon_batch = _p.sample_mean(z)\n",
    "        if i == 0:\n",
    "            n = min(data.size(0), 8)\n",
    "            comparison = torch.cat([data[:n],\n",
    "                                  recon_batch.view(batch_size, 1, 28, 28)[:n]])\n",
    "            save_image(comparison.cpu(),\n",
    "                     'results/reconstruction_' + str(epoch) + '.png', nrow=n)\n",
    "\n",
    "    test_loss /= len(test_loader.dataset)\n",
    "    print('====> Test set loss: {:.4f}'.format(test_loss))"
   ]
  },
  {
   "cell_type": "code",
   "execution_count": null,
   "metadata": {},
   "outputs": [],
   "source": [
    "epochs = 10\n",
    "\n",
    "for epoch in range(1, epochs + 1):\n",
    "    train(epoch)\n",
    "    test(epoch)\n",
    "    with torch.no_grad():\n",
    "        sample_z = 0.3 * torch.randn(64, z_dim).to(device)\n",
    "        sample = _p.sample_mean({\"z\":sample_z}).cpu()\n",
    "        save_image(sample.view(64, 1, 28, 28),\n",
    "                   'results/sample_' + str(epoch) + '.png')"
   ]
  },
  {
   "cell_type": "markdown",
   "metadata": {},
   "source": [
    "なお， ここでは下界を実装しましたが，TarsではTars.models以下に様々な学習モデルが用意されています．\n",
    "\n",
    "変分推論の場合は，次のように，Tars.models.VIを使うことで学習できます．"
   ]
  },
  {
   "cell_type": "code",
   "execution_count": null,
   "metadata": {},
   "outputs": [],
   "source": [
    "from Tars.models import VI\n",
    "model = VI(p, q, optim.Adam, {\"lr\":1e-3})"
   ]
  },
  {
   "cell_type": "code",
   "execution_count": null,
   "metadata": {},
   "outputs": [],
   "source": [
    "def train(epoch):\n",
    "    train_loss = 0\n",
    "    for batch_idx, (data, _) in enumerate(train_loader):\n",
    "        data = data.to(device)\n",
    "        lower_bound, loss = model.train({\"x\": data.view(-1, 784)})\n",
    "        train_loss += loss\n",
    "        if batch_idx % log_interval == 0:\n",
    "            print('Train Epoch: {} [{}/{} ({:.0f}%)]\\tLoss: {:.6f}'.format(\n",
    "                epoch, batch_idx * len(data), len(train_loader.dataset),\n",
    "                100. * batch_idx / len(train_loader),\n",
    "                loss.item()))\n",
    "\n",
    "    print('====> Epoch: {} Average loss: {:.4f}'.format(\n",
    "          epoch, train_loss / len(train_loader.dataset)))"
   ]
  },
  {
   "cell_type": "code",
   "execution_count": null,
   "metadata": {},
   "outputs": [],
   "source": [
    "def test(epoch):\n",
    "    test_loss = 0\n",
    "    for i, (data, _) in enumerate(test_loader):\n",
    "        data = data.to(device)\n",
    "        lower_bound, loss = model.test({\"x\": data.view(-1, 784)})\n",
    "        test_loss += loss\n",
    "        z = q.sample({\"x\": data.view(-1, 784)})\n",
    "        z = get_dict_values(z, _p.cond_var, return_dict=True)\n",
    "        recon_batch = _p.sample_mean(z)\n",
    "        if i == 0:\n",
    "            n = min(data.size(0), 8)\n",
    "            comparison = torch.cat([data[:n],\n",
    "                                  recon_batch.view(batch_size, 1, 28, 28)[:n]])\n",
    "            save_image(comparison.cpu(),\n",
    "                     'results/reconstruction_' + str(epoch) + '.png', nrow=n)\n",
    "\n",
    "    test_loss /= len(test_loader.dataset)\n",
    "    print('====> Test set loss: {:.4f}'.format(test_loss))"
   ]
  },
  {
   "cell_type": "code",
   "execution_count": null,
   "metadata": {},
   "outputs": [],
   "source": [
    "for epoch in range(1, epochs + 1):\n",
    "    train(epoch)\n",
    "    test(epoch)\n",
    "    with torch.no_grad():\n",
    "        sample_z = 0.3 * torch.randn(64, z_dim).to(device)\n",
    "        sample = _p.sample_mean({\"z\":sample_z}).cpu()\n",
    "        save_image(sample.view(64, 1, 28, 28),\n",
    "                   'results/sample_' + str(epoch) + '.png')"
   ]
  },
  {
   "cell_type": "code",
   "execution_count": null,
   "metadata": {},
   "outputs": [],
   "source": []
  }
 ],
 "metadata": {
  "kernelspec": {
   "display_name": "Python 3",
   "language": "python",
   "name": "python3"
  },
  "language_info": {
   "codemirror_mode": {
    "name": "ipython",
    "version": 3
   },
   "file_extension": ".py",
   "mimetype": "text/x-python",
   "name": "python",
   "nbconvert_exporter": "python",
   "pygments_lexer": "ipython3",
   "version": "3.5.1"
  }
 },
 "nbformat": 4,
 "nbformat_minor": 2
}
